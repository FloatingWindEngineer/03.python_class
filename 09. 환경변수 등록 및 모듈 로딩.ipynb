{
 "cells": [
  {
   "cell_type": "markdown",
   "id": "13076efb-e5eb-4145-9f6d-066d134f2418",
   "metadata": {
    "tags": []
   },
   "source": [
    "# 9차시 환경변수 등록과 from절과 import절 사용하기\n",
    "\n",
    "- 윈도우 환경변수가 왜 중요할까요?"
   ]
  },
  {
   "cell_type": "markdown",
   "id": "d30ef4bb-75b6-4c39-941e-1d8a256d327e",
   "metadata": {},
   "source": [
    "## 1. 모듈 로딩을 위한 환경 변수 등록은?"
   ]
  },
  {
   "cell_type": "markdown",
   "id": "199b0969-918f-4668-a32c-454d26cf5cfb",
   "metadata": {},
   "source": [
    "### 1.1 윈도우 환경 변수 등록\n",
    "- 경로 추가 방법  \n",
    " 1) 시스템 속성  \n",
    " 2) 고급 -> 환경변수 클릭  \n",
    " 3) PYTHONPATH 환경변수에 등록된 위치  \n",
    "\n",
    "- 동적으로 경로 추가 방법  \n",
    " 1) sys.path.append()로 경로 추가  \n",
    " 2) sys.path.remove()로 경로 삭제  \n",
    " "
   ]
  },
  {
   "cell_type": "code",
   "execution_count": 3,
   "id": "4aff2bd6",
   "metadata": {},
   "outputs": [
    {
     "data": {
      "text/plain": [
       "[1, 2, 3, 4, 5]"
      ]
     },
     "execution_count": 3,
     "metadata": {},
     "output_type": "execute_result"
    }
   ],
   "source": [
    "import simpleset\n",
    "simpleset.union([1,2,3],[3,4,5])"
   ]
  },
  {
   "cell_type": "code",
   "execution_count": 2,
   "id": "85992689",
   "metadata": {
    "scrolled": true
   },
   "outputs": [
    {
     "data": {
      "text/plain": [
       "['C:\\\\Users\\\\jtkim\\\\Python\\\\03. [직딩잇템]처음 시작하는 파이썬, 구조를 학습하라',\n",
       " 'C:\\\\ProgramData\\\\Anaconda3\\\\python39.zip',\n",
       " 'C:\\\\ProgramData\\\\Anaconda3\\\\DLLs',\n",
       " 'C:\\\\ProgramData\\\\Anaconda3\\\\lib',\n",
       " 'C:\\\\ProgramData\\\\Anaconda3',\n",
       " '',\n",
       " 'C:\\\\ProgramData\\\\Anaconda3\\\\lib\\\\site-packages',\n",
       " 'C:\\\\ProgramData\\\\Anaconda3\\\\lib\\\\site-packages\\\\win32',\n",
       " 'C:\\\\ProgramData\\\\Anaconda3\\\\lib\\\\site-packages\\\\win32\\\\lib',\n",
       " 'C:\\\\ProgramData\\\\Anaconda3\\\\lib\\\\site-packages\\\\Pythonwin',\n",
       " 'C:\\\\ProgramData\\\\Anaconda3\\\\lib\\\\site-packages\\\\IPython\\\\extensions',\n",
       " 'C:\\\\Users\\\\jtkim\\\\.ipython']"
      ]
     },
     "execution_count": 2,
     "metadata": {},
     "output_type": "execute_result"
    }
   ],
   "source": [
    "import sys\n",
    "sys.path"
   ]
  },
  {
   "cell_type": "code",
   "execution_count": 4,
   "id": "f9263740",
   "metadata": {},
   "outputs": [],
   "source": [
    "sys.path.append('c:\\\\mymodule2')"
   ]
  },
  {
   "cell_type": "code",
   "execution_count": 5,
   "id": "ce0c77d4",
   "metadata": {},
   "outputs": [
    {
     "data": {
      "text/plain": [
       "['C:\\\\Users\\\\jtkim\\\\Python\\\\03. [직딩잇템]처음 시작하는 파이썬, 구조를 학습하라',\n",
       " 'C:\\\\ProgramData\\\\Anaconda3\\\\python39.zip',\n",
       " 'C:\\\\ProgramData\\\\Anaconda3\\\\DLLs',\n",
       " 'C:\\\\ProgramData\\\\Anaconda3\\\\lib',\n",
       " 'C:\\\\ProgramData\\\\Anaconda3',\n",
       " '',\n",
       " 'C:\\\\ProgramData\\\\Anaconda3\\\\lib\\\\site-packages',\n",
       " 'C:\\\\ProgramData\\\\Anaconda3\\\\lib\\\\site-packages\\\\win32',\n",
       " 'C:\\\\ProgramData\\\\Anaconda3\\\\lib\\\\site-packages\\\\win32\\\\lib',\n",
       " 'C:\\\\ProgramData\\\\Anaconda3\\\\lib\\\\site-packages\\\\Pythonwin',\n",
       " 'C:\\\\ProgramData\\\\Anaconda3\\\\lib\\\\site-packages\\\\IPython\\\\extensions',\n",
       " 'C:\\\\Users\\\\jtkim\\\\.ipython',\n",
       " 'c:\\\\mymodule2']"
      ]
     },
     "execution_count": 5,
     "metadata": {},
     "output_type": "execute_result"
    }
   ],
   "source": [
    "sys.path"
   ]
  },
  {
   "cell_type": "code",
   "execution_count": 6,
   "id": "bc7590e2",
   "metadata": {},
   "outputs": [],
   "source": [
    "sys.path.remove('c:\\\\mymodule2')"
   ]
  },
  {
   "cell_type": "code",
   "execution_count": 7,
   "id": "b52a7423",
   "metadata": {},
   "outputs": [
    {
     "data": {
      "text/plain": [
       "['C:\\\\Users\\\\jtkim\\\\Python\\\\03. [직딩잇템]처음 시작하는 파이썬, 구조를 학습하라',\n",
       " 'C:\\\\ProgramData\\\\Anaconda3\\\\python39.zip',\n",
       " 'C:\\\\ProgramData\\\\Anaconda3\\\\DLLs',\n",
       " 'C:\\\\ProgramData\\\\Anaconda3\\\\lib',\n",
       " 'C:\\\\ProgramData\\\\Anaconda3',\n",
       " '',\n",
       " 'C:\\\\ProgramData\\\\Anaconda3\\\\lib\\\\site-packages',\n",
       " 'C:\\\\ProgramData\\\\Anaconda3\\\\lib\\\\site-packages\\\\win32',\n",
       " 'C:\\\\ProgramData\\\\Anaconda3\\\\lib\\\\site-packages\\\\win32\\\\lib',\n",
       " 'C:\\\\ProgramData\\\\Anaconda3\\\\lib\\\\site-packages\\\\Pythonwin',\n",
       " 'C:\\\\ProgramData\\\\Anaconda3\\\\lib\\\\site-packages\\\\IPython\\\\extensions',\n",
       " 'C:\\\\Users\\\\jtkim\\\\.ipython']"
      ]
     },
     "execution_count": 7,
     "metadata": {},
     "output_type": "execute_result"
    }
   ],
   "source": [
    "sys.path"
   ]
  },
  {
   "cell_type": "markdown",
   "id": "1f64aefd",
   "metadata": {},
   "source": [
    "## 2. from절과 import절의 정의 및 활용\n",
    "\n",
    "### 2.1 정의 : \n",
    " - from : 특정 모듈을 지정해서 메모리에 탑재할 때 사용하는 구문\n",
    " - import : 특정 함수를 지정해서 메모리에 탑재할 때 사용하는 구문\n",
    " \n",
    "### 2.2 활용 1 :\n",
    " - from 모듈 import 어트리뷰트\n",
    " - 임포트된 어트리뷰트는 '모듈이름.어트리뷰트이름' 같은 형식으로 쓰지 않고 바로 사용 가능\n",
    " \n",
    "### 2.3 활용 2 :\n",
    " - from 모듈 import *  \n",
    " - 모듈 내 이름 중 _로 시작하는 어트리뷰트를 제외하고 모든 어트리뷰트를 현재의 이름 공간으로 임포트 가능  \n",
    " \n",
    "### 2.4 활용 3 :  \n",
    " - 모듈은 메모리에 한 번만 로딩  \n",
    " - 참조하는 별칭은 여러 개 있을 수 있음  \n",
    " ex) test1 / test2 -> testmodule 모듈(메모리에 한 번만 탑재)\n",
    " "
   ]
  },
  {
   "cell_type": "code",
   "execution_count": 8,
   "id": "d3567cd6",
   "metadata": {
    "scrolled": false
   },
   "outputs": [
    {
     "data": {
      "text/plain": [
       "[4, 5, 6, 1, 2, 3]"
      ]
     },
     "execution_count": 8,
     "metadata": {},
     "output_type": "execute_result"
    }
   ],
   "source": [
    "# 활용1\n",
    "from simpleset import union\n",
    "union([4,5,6],[1,2,3])\n"
   ]
  },
  {
   "cell_type": "code",
   "execution_count": 9,
   "id": "b626d159",
   "metadata": {
    "scrolled": true
   },
   "outputs": [
    {
     "ename": "NameError",
     "evalue": "name 'intersect' is not defined",
     "output_type": "error",
     "traceback": [
      "\u001b[1;31m---------------------------------------------------------------------------\u001b[0m",
      "\u001b[1;31mNameError\u001b[0m                                 Traceback (most recent call last)",
      "\u001b[1;32m~\\AppData\\Local\\Temp\\ipykernel_7680\\1724825241.py\u001b[0m in \u001b[0;36m<module>\u001b[1;34m\u001b[0m\n\u001b[1;32m----> 1\u001b[1;33m \u001b[0mintersect\u001b[0m\u001b[1;33m(\u001b[0m\u001b[1;33m[\u001b[0m\u001b[1;36m1\u001b[0m\u001b[1;33m,\u001b[0m\u001b[1;36m2\u001b[0m\u001b[1;33m]\u001b[0m\u001b[1;33m,\u001b[0m\u001b[1;33m[\u001b[0m\u001b[1;36m1\u001b[0m\u001b[1;33m]\u001b[0m\u001b[1;33m)\u001b[0m\u001b[1;33m\u001b[0m\u001b[1;33m\u001b[0m\u001b[0m\n\u001b[0m",
      "\u001b[1;31mNameError\u001b[0m: name 'intersect' is not defined"
     ]
    }
   ],
   "source": [
    "intersect([1,2],[1])"
   ]
  },
  {
   "cell_type": "code",
   "execution_count": 10,
   "id": "59369d28",
   "metadata": {
    "scrolled": false
   },
   "outputs": [
    {
     "data": {
      "text/plain": [
       "['In',\n",
       " 'Out',\n",
       " 'WRAPPER_ASSIGNMENTS',\n",
       " 'WRAPPER_UPDATES',\n",
       " '_',\n",
       " '_1',\n",
       " '_2',\n",
       " '_3',\n",
       " '_5',\n",
       " '_7',\n",
       " '_8',\n",
       " '__',\n",
       " '___',\n",
       " '__builtin__',\n",
       " '__builtins__',\n",
       " '__doc__',\n",
       " '__loader__',\n",
       " '__name__',\n",
       " '__package__',\n",
       " '__spec__',\n",
       " '_dh',\n",
       " '_i',\n",
       " '_i1',\n",
       " '_i10',\n",
       " '_i2',\n",
       " '_i3',\n",
       " '_i4',\n",
       " '_i5',\n",
       " '_i6',\n",
       " '_i7',\n",
       " '_i8',\n",
       " '_i9',\n",
       " '_ih',\n",
       " '_ii',\n",
       " '_iii',\n",
       " '_oh',\n",
       " 'cache',\n",
       " 'cached_property',\n",
       " 'cmp_to_key',\n",
       " 'difference',\n",
       " 'exit',\n",
       " 'get_ipython',\n",
       " 'intersect',\n",
       " 'lru_cache',\n",
       " 'partial',\n",
       " 'partialmethod',\n",
       " 'quit',\n",
       " 'reduce',\n",
       " 'simpleset',\n",
       " 'singledispatch',\n",
       " 'singledispatchmethod',\n",
       " 'sys',\n",
       " 'total_ordering',\n",
       " 'union',\n",
       " 'update_wrapper',\n",
       " 'wraps']"
      ]
     },
     "execution_count": 10,
     "metadata": {},
     "output_type": "execute_result"
    }
   ],
   "source": [
    "# 활용2\n",
    "from simpleset import *\n",
    "dir()"
   ]
  },
  {
   "cell_type": "code",
   "execution_count": 11,
   "id": "46e4b8a9",
   "metadata": {
    "scrolled": true
   },
   "outputs": [
    {
     "data": {
      "text/plain": [
       "[4, 5, 6, 8, 1, 2, 3]"
      ]
     },
     "execution_count": 11,
     "metadata": {},
     "output_type": "execute_result"
    }
   ],
   "source": [
    "union([4,5,6,8],[1,2,5,3])"
   ]
  },
  {
   "cell_type": "code",
   "execution_count": null,
   "id": "12098be3",
   "metadata": {},
   "outputs": [],
   "source": [
    "# testmodule.py 을 mymodule에 추가\n",
    "print(\"hello world\")\n",
    "defaultvalue = 2\n",
    "def printDefaultValue():\n",
    "    print(defaultvalue)\n"
   ]
  },
  {
   "cell_type": "code",
   "execution_count": 25,
   "id": "353f65bd",
   "metadata": {},
   "outputs": [],
   "source": [
    "# 활용 3 \n",
    "sys.path.append('c:\\\\mymodule')  # 환경변수로 인식을 못해서,, (아나콘다 환경이라서 그런듯) 동적으로 경로 추가\n",
    "import testmodule as test1   # 맨 처음에는 hello world 출력 되었으나 다시 실행하면 뜨지 않음. (이미 등록 되어서)"
   ]
  },
  {
   "cell_type": "code",
   "execution_count": 17,
   "id": "49f24e59",
   "metadata": {},
   "outputs": [],
   "source": [
    "import testmodule as test2   # hello world 출력 안됨"
   ]
  },
  {
   "cell_type": "code",
   "execution_count": 18,
   "id": "63d7a7e2",
   "metadata": {},
   "outputs": [
    {
     "data": {
      "text/plain": [
       "['In',\n",
       " 'Out',\n",
       " 'WRAPPER_ASSIGNMENTS',\n",
       " 'WRAPPER_UPDATES',\n",
       " '_',\n",
       " '_1',\n",
       " '_10',\n",
       " '_11',\n",
       " '_2',\n",
       " '_3',\n",
       " '_5',\n",
       " '_7',\n",
       " '_8',\n",
       " '__',\n",
       " '___',\n",
       " '__builtin__',\n",
       " '__builtins__',\n",
       " '__doc__',\n",
       " '__loader__',\n",
       " '__name__',\n",
       " '__package__',\n",
       " '__spec__',\n",
       " '_dh',\n",
       " '_i',\n",
       " '_i1',\n",
       " '_i10',\n",
       " '_i11',\n",
       " '_i12',\n",
       " '_i13',\n",
       " '_i14',\n",
       " '_i15',\n",
       " '_i16',\n",
       " '_i17',\n",
       " '_i18',\n",
       " '_i2',\n",
       " '_i3',\n",
       " '_i4',\n",
       " '_i5',\n",
       " '_i6',\n",
       " '_i7',\n",
       " '_i8',\n",
       " '_i9',\n",
       " '_ih',\n",
       " '_ii',\n",
       " '_iii',\n",
       " '_oh',\n",
       " 'cache',\n",
       " 'cached_property',\n",
       " 'cmp_to_key',\n",
       " 'difference',\n",
       " 'exit',\n",
       " 'get_ipython',\n",
       " 'intersect',\n",
       " 'lru_cache',\n",
       " 'partial',\n",
       " 'partialmethod',\n",
       " 'quit',\n",
       " 'reduce',\n",
       " 'simpleset',\n",
       " 'singledispatch',\n",
       " 'singledispatchmethod',\n",
       " 'sys',\n",
       " 'test1',\n",
       " 'test2',\n",
       " 'total_ordering',\n",
       " 'union',\n",
       " 'update_wrapper',\n",
       " 'wraps']"
      ]
     },
     "execution_count": 18,
     "metadata": {},
     "output_type": "execute_result"
    }
   ],
   "source": [
    "dir()"
   ]
  },
  {
   "cell_type": "code",
   "execution_count": 19,
   "id": "f99e4db5",
   "metadata": {},
   "outputs": [
    {
     "name": "stdout",
     "output_type": "stream",
     "text": [
      "2\n"
     ]
    }
   ],
   "source": [
    "test1.printDefaultValue()"
   ]
  },
  {
   "cell_type": "code",
   "execution_count": 23,
   "id": "de5c4ea0",
   "metadata": {},
   "outputs": [
    {
     "name": "stdout",
     "output_type": "stream",
     "text": [
      "100\n"
     ]
    }
   ],
   "source": [
    "test1.defaultvalue = 100\n",
    "test2.printDefaultValue()               # 이름은 다르지만 동일한 것을 참조함"
   ]
  },
  {
   "cell_type": "markdown",
   "id": "7a4d1085",
   "metadata": {},
   "source": [
    "Q. 윈도우에서 파이썬이 인식하는 라이브러리 폴더를 추가할 때 사용하는 환경 변수의 이름은?  \n",
    "A. PYTHONPATH (아나콘다에서 실행하는 파이썬은 해당하지 않는 것으로 보임...)"
   ]
  }
 ],
 "metadata": {
  "kernelspec": {
   "display_name": "Python 3 (ipykernel)",
   "language": "python",
   "name": "python3"
  },
  "language_info": {
   "codemirror_mode": {
    "name": "ipython",
    "version": 3
   },
   "file_extension": ".py",
   "mimetype": "text/x-python",
   "name": "python",
   "nbconvert_exporter": "python",
   "pygments_lexer": "ipython3",
   "version": "3.9.13"
  }
 },
 "nbformat": 4,
 "nbformat_minor": 5
}
