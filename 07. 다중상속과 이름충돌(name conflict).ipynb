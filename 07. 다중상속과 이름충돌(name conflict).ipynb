{
 "cells": [
  {
   "cell_type": "markdown",
   "id": "13076efb-e5eb-4145-9f6d-066d134f2418",
   "metadata": {
    "tags": []
   },
   "source": [
    "# 7차시 다중상속\n",
    "\n",
    "- 동시에 여러 개 클래스를 상속받기"
   ]
  },
  {
   "cell_type": "markdown",
   "id": "d30ef4bb-75b6-4c39-941e-1d8a256d327e",
   "metadata": {},
   "source": [
    "## 1. 다중 상속"
   ]
  },
  {
   "cell_type": "markdown",
   "id": "199b0969-918f-4668-a32c-454d26cf5cfb",
   "metadata": {},
   "source": [
    "### 1.1 다중상속의 정의\n",
    "- 2개 이상의 클래스를 동시에 상속받는 것을 의미\n",
    "\n",
    "부모클래스 : Lion, Tiger    \n",
    "자식클래스 : Liger"
   ]
  },
  {
   "cell_type": "code",
   "execution_count": 11,
   "id": "d3567cd6",
   "metadata": {},
   "outputs": [
    {
     "name": "stdout",
     "output_type": "stream",
     "text": [
      "라이거만의 사육사와 재미있게 놀기\n",
      "호랑이처럼 멀리 점프하기\n",
      "사자처럼 한입에 꿀꺽하기\n"
     ]
    }
   ],
   "source": [
    "# 다중상속의 구현\n",
    "\n",
    "class Tiger:\n",
    "    def jump(self):\n",
    "        print(\"호랑이처럼 멀리 점프하기\")\n",
    "class Lion:\n",
    "    def bite(self):\n",
    "        print(\"사자처럼 한입에 꿀꺽하기\")\n",
    "class Liger(Tiger,Lion):\n",
    "    def play(self):\n",
    "        print(\"라이거만의 사육사와 재미있게 놀기\")\n",
    "\n",
    "I = Liger()\n",
    "I.play()\n",
    "I.jump()\n",
    "I.bite()\n"
   ]
  },
  {
   "cell_type": "markdown",
   "id": "dda19c21",
   "metadata": {},
   "source": [
    "### 1.2 다중 상속의 이름충돌(name conflict) 해결하기\n",
    " "
   ]
  },
  {
   "cell_type": "code",
   "execution_count": 8,
   "id": "bdc28f6c",
   "metadata": {},
   "outputs": [],
   "source": [
    "# 이름충돌 예시\n",
    "\n",
    "class Tiger:\n",
    "    def cry(self):\n",
    "        print(\"호랑이:어흥~\")\n",
    "class Lion:\n",
    "    def cry(self):\n",
    "        print(\"사자:으르렁~\")\n",
    "class Liger(Tiger,Lion):\n",
    "    def play(self):\n",
    "        print(\"라이거만의 사육사와 재미있게 놀기\")"
   ]
  },
  {
   "cell_type": "code",
   "execution_count": 10,
   "id": "78b3d7ac",
   "metadata": {},
   "outputs": [
    {
     "name": "stdout",
     "output_type": "stream",
     "text": [
      "호랑이:어흥~\n"
     ]
    }
   ],
   "source": [
    "# 상속 순서 : 먼저 상속받은 정의를 호출함.\n",
    "I = Liger()\n",
    "I.cry()"
   ]
  },
  {
   "cell_type": "markdown",
   "id": "70fa48a0",
   "metadata": {},
   "source": [
    "Q. 다중 상속에서 이름 충돌이 "
   ]
  }
 ],
 "metadata": {
  "kernelspec": {
   "display_name": "Python 3 (ipykernel)",
   "language": "python",
   "name": "python3"
  },
  "language_info": {
   "codemirror_mode": {
    "name": "ipython",
    "version": 3
   },
   "file_extension": ".py",
   "mimetype": "text/x-python",
   "name": "python",
   "nbconvert_exporter": "python",
   "pygments_lexer": "ipython3",
   "version": "3.9.13"
  }
 },
 "nbformat": 4,
 "nbformat_minor": 5
}
