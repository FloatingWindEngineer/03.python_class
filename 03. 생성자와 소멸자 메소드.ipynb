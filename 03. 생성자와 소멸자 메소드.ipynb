{
 "cells": [
  {
   "cell_type": "markdown",
   "id": "13076efb-e5eb-4145-9f6d-066d134f2418",
   "metadata": {
    "tags": []
   },
   "source": [
    "# 3차시 생성자와 소멸자 메소드\n",
    "\n",
    "- 파이썬에서 메모리 관리를 위해 생성자 메소드와 소멸자 메소드를 정의함."
   ]
  },
  {
   "cell_type": "markdown",
   "id": "d30ef4bb-75b6-4c39-941e-1d8a256d327e",
   "metadata": {},
   "source": [
    "## 1. 파이썬의 생성자와 소멸자 메소드는 무엇인가?"
   ]
  },
  {
   "cell_type": "markdown",
   "id": "199b0969-918f-4668-a32c-454d26cf5cfb",
   "metadata": {},
   "source": [
    "### 1.1 정의\n",
    "- 생성자 메소드:\n",
    "  1) 객체의 초기화 담당\n",
    "  2) 인스턴스 객체가 생성될 때 가장 먼저 호출\n",
    "- 소멸자 메소드:\n",
    "  1) 객체의 소멸을 담당\n",
    "  2) 인스턴스 객체의 레퍼런스 카운트가 0이 될 때 자동으로 호출"
   ]
  },
  {
   "cell_type": "code",
   "execution_count": 4,
   "id": "7a00658c-9f29-459f-935d-34ad3c819415",
   "metadata": {},
   "outputs": [
    {
     "name": "stdout",
     "output_type": "stream",
     "text": [
      "Class is created! Value =  10\n",
      "Class is deleted!\n"
     ]
    }
   ],
   "source": [
    "# 예시\n",
    "\n",
    "class MyClass:                                     # 클래스 정의\n",
    "    def __init__(self, value):                     # 생성자 메소드\n",
    "        self.Value = value\n",
    "        print(\"Class is created! Value = \",value)\n",
    "    def __del__(self):                             # 소멸자 메소드\n",
    "        print(\"Class is deleted!\")\n",
    "        \n",
    "d = MyClass(10)                                    # 생성자 메소드를 호출\n",
    "del d                                              # 소멸자 메소드를 호출"
   ]
  },
  {
   "cell_type": "code",
   "execution_count": 5,
   "id": "2469445a-46ed-4ab4-a7ac-305645f7e2c1",
   "metadata": {},
   "outputs": [
    {
     "name": "stdout",
     "output_type": "stream",
     "text": [
      "Class is created! Value =  10\n",
      "Class is deleted!\n"
     ]
    }
   ],
   "source": [
    "# 객체의 생성과 소멸을 위한 참조 카운트 사용 방법\n",
    "\n",
    "d = MyClass(10)        # 참조 카운트1\n",
    "d_copy = d             # 참조 카운트2\n",
    "del d                  # 참조 카운트 1로 감소\n",
    "del d_copy             # 참조 카운트 0 (소멸자 호출)\n"
   ]
  },
  {
   "cell_type": "markdown",
   "id": "08eafdb9-dcd0-4876-8a8d-f7852f5866f6",
   "metadata": {},
   "source": [
    "## Summary\n",
    "- 전역공간 내 d1(인스턴스)가 MyClass(클래스)를 참조\n",
    "- d1이라는 인스턴스 객체가 생성되고 사용한 후에, 참조 카운트가 0이 되면, 스스로 소멸됨.\n",
    "- 생성자 메소드로 객체 초기화를 시키고 소멸자 메소드로 객체를 소멸시키는 방법을 학습함.\n",
    "- 생성자는 클래스를 사용하여 인스턴스 객체를 사용할 때 항상 초기화하는 코드로 사용됨."
   ]
  }
 ],
 "metadata": {
  "kernelspec": {
   "display_name": "Python 3 (ipykernel)",
   "language": "python",
   "name": "python3"
  },
  "language_info": {
   "codemirror_mode": {
    "name": "ipython",
    "version": 3
   },
   "file_extension": ".py",
   "mimetype": "text/x-python",
   "name": "python",
   "nbconvert_exporter": "python",
   "pygments_lexer": "ipython3",
   "version": "3.9.13"
  }
 },
 "nbformat": 4,
 "nbformat_minor": 5
}
