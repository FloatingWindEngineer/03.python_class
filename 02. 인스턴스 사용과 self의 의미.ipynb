{
 "cells": [
  {
   "cell_type": "markdown",
   "id": "13076efb-e5eb-4145-9f6d-066d134f2418",
   "metadata": {
    "tags": []
   },
   "source": [
    "# 2차시 인스턴스 사용과 self의 의미\n",
    "\n",
    "- 인스턴스를 다양하게 사용하는 방법과 self라는 단어의 의미를 살펴봄"
   ]
  },
  {
   "cell_type": "markdown",
   "id": "d30ef4bb-75b6-4c39-941e-1d8a256d327e",
   "metadata": {},
   "source": [
    "## 1. 인스턴스 객체를 다양하게 사용하는 방법"
   ]
  },
  {
   "cell_type": "markdown",
   "id": "199b0969-918f-4668-a32c-454d26cf5cfb",
   "metadata": {},
   "source": [
    "### 1.1 인스턴스 객체 멤버 변수 이름 해석 순서\n",
    "1) 인스턴스 객체 내부\n",
    "2) 클래스 객체 내부\n",
    "3) 전역공간"
   ]
  },
  {
   "cell_type": "markdown",
   "id": "9cb10fad-b897-4e54-91c3-58942d2c8c58",
   "metadata": {},
   "source": [
    "### 1.2 두 개의 인스턴스 객체를 생성하여 이름을 해석하는 방법\n"
   ]
  },
  {
   "cell_type": "code",
   "execution_count": 3,
   "id": "6f9f9efb-76e3-4749-b0eb-1e37484d7712",
   "metadata": {},
   "outputs": [
    {
     "name": "stdout",
     "output_type": "stream",
     "text": [
      "p1's name 전우치\n",
      "p2's name Default Name\n"
     ]
    }
   ],
   "source": [
    "# class02.py\n",
    "\n",
    "# 클래스 정의\n",
    "class Person:\n",
    "    name = \"Default Name\"\n",
    "    def print(self):\n",
    "        print(\"My name is {0}\".format(self.name))\n",
    "\n",
    "# 인스턴스 생성       \n",
    "p1 = Person()\n",
    "p2 = Person()\n",
    "p1.name=\"전우치\"\n",
    "print(\"p1's name\", p1.name)  # 인스턴스객체 내부\n",
    "print(\"p2's name\", p2.name)  # 클래스 객체 내부\n"
   ]
  },
  {
   "cell_type": "markdown",
   "id": "98059167-2c07-4a95-93c4-e5159f2bfcf3",
   "metadata": {},
   "source": [
    "### 1.3 클래스에 새로운 멤버 변수 title 추가하는 방법\n"
   ]
  },
  {
   "cell_type": "code",
   "execution_count": 4,
   "id": "79290861-2d80-4c64-8561-71ed6e551a58",
   "metadata": {},
   "outputs": [
    {
     "name": "stdout",
     "output_type": "stream",
     "text": [
      "p1's title: New title\n",
      "p2's title: New title\n",
      "Person's title: New title\n"
     ]
    }
   ],
   "source": [
    "Person.title = \"New title\"\n",
    "print(\"p1's title:\", p1.title)\n",
    "print(\"p2's title:\", p2.title)\n",
    "print(\"Person's title:\", Person.title)\n"
   ]
  },
  {
   "cell_type": "markdown",
   "id": "6548a82d-247c-4529-85ca-d4f829637caa",
   "metadata": {},
   "source": [
    "### 1.4 인스턴스 객체에 동적으로 멤버 변수를 추가하는 법\n"
   ]
  },
  {
   "cell_type": "code",
   "execution_count": 6,
   "id": "d3ddbd7c-0885-48e5-8f52-3be2af3a29ca",
   "metadata": {},
   "outputs": [
    {
     "name": "stdout",
     "output_type": "stream",
     "text": [
      "p1's age: 20\n"
     ]
    },
    {
     "ename": "AttributeError",
     "evalue": "'Person' object has no attribute 'age'",
     "output_type": "error",
     "traceback": [
      "\u001b[1;31m---------------------------------------------------------------------------\u001b[0m",
      "\u001b[1;31mAttributeError\u001b[0m                            Traceback (most recent call last)",
      "\u001b[1;32m~\\AppData\\Local\\Temp\\ipykernel_16532\\787976542.py\u001b[0m in \u001b[0;36m<module>\u001b[1;34m\u001b[0m\n\u001b[0;32m      1\u001b[0m \u001b[0mp1\u001b[0m\u001b[1;33m.\u001b[0m\u001b[0mage\u001b[0m \u001b[1;33m=\u001b[0m \u001b[1;36m20\u001b[0m\u001b[1;33m\u001b[0m\u001b[1;33m\u001b[0m\u001b[0m\n\u001b[0;32m      2\u001b[0m \u001b[0mprint\u001b[0m\u001b[1;33m(\u001b[0m\u001b[1;34m\"p1's age:\"\u001b[0m\u001b[1;33m,\u001b[0m \u001b[0mp1\u001b[0m\u001b[1;33m.\u001b[0m\u001b[0mage\u001b[0m\u001b[1;33m)\u001b[0m     \u001b[1;31m# p1객체에 추가한 age는 p1에서만 접근이 가능\u001b[0m\u001b[1;33m\u001b[0m\u001b[1;33m\u001b[0m\u001b[0m\n\u001b[1;32m----> 3\u001b[1;33m \u001b[0mprint\u001b[0m\u001b[1;33m(\u001b[0m\u001b[1;34m\"p2's age:\"\u001b[0m\u001b[1;33m,\u001b[0m \u001b[0mp2\u001b[0m\u001b[1;33m.\u001b[0m\u001b[0mage\u001b[0m\u001b[1;33m)\u001b[0m\u001b[1;33m\u001b[0m\u001b[1;33m\u001b[0m\u001b[0m\n\u001b[0m",
      "\u001b[1;31mAttributeError\u001b[0m: 'Person' object has no attribute 'age'"
     ]
    }
   ],
   "source": [
    "p1.age = 20\n",
    "print(\"p1's age:\", p1.age)     # p1객체에 추가한 age는 p1에서만 접근이 가능\n",
    "print(\"p2's age:\", p2.age)\n"
   ]
  },
  {
   "cell_type": "markdown",
   "id": "2f25d688-ff65-4ada-bc88-199979682f1a",
   "metadata": {},
   "source": [
    "## 2. self라는 단어의 의미  \n",
    "- 정의 : 자기 자신을 참조하는 의미의 self"
   ]
  },
  {
   "cell_type": "code",
   "execution_count": 8,
   "id": "74afc9aa-c533-459c-8d0f-5a9c4a3f5fed",
   "metadata": {},
   "outputs": [
    {
     "name": "stdout",
     "output_type": "stream",
     "text": [
      "Not Class Member\n"
     ]
    }
   ],
   "source": [
    "#잘못된 예\n",
    "\n",
    "str = \"Not Class Member\" # 전역변수\n",
    "class GString:\n",
    "    str = \"\"             # 비문자열로 초기화\n",
    "    def set(self, msg):  # 자기자신에 대한 참조, msg: 첫번째 매개변수\n",
    "        self.str = msg   # self.str = GString 내 str을 의미\n",
    "    def print(self):     # 자기자신을 참조로 받음, python에서 첫번째 매개변수의 자리는 자기자신을 참조로 넘기는 예약이 되어 있는 자리\n",
    "        print(str)       # str = GString 바깥의 전역변수를 의미함\n",
    "\n",
    "g = GString()\n",
    "g.set(\"First Message\")\n",
    "g.print()\n"
   ]
  },
  {
   "cell_type": "code",
   "execution_count": 9,
   "id": "33860b41-ffcf-4e35-9cf1-948019def96e",
   "metadata": {},
   "outputs": [
    {
     "name": "stdout",
     "output_type": "stream",
     "text": [
      "First Message\n"
     ]
    }
   ],
   "source": [
    "#올바른 예\n",
    "\n",
    "str = \"Not Class Member\" \n",
    "class GString:\n",
    "    str = \"\"            \n",
    "    def set(self, msg):\n",
    "        self.str = msg\n",
    "    def print(self):\n",
    "        print(self.str)  # 멤버변수로 수정\n",
    "\n",
    "g = GString()\n",
    "g.set(\"First Message\")\n",
    "g.print()\n"
   ]
  },
  {
   "cell_type": "markdown",
   "id": "08eafdb9-dcd0-4876-8a8d-f7852f5866f6",
   "metadata": {},
   "source": [
    "## Summary\n",
    "- 클래스를 정의할 때에는 class라는 키워드를 사용함.\n",
    "- 클래스에는 멤버 변수를 초기화할 수 있고 멤버 메소드를 정의할 수 있음.\n",
    "- 멤버 메소드는 def라는 키워드를 사용하고 첫 번째 매개변수(인자)는 예약되어 있는 자리여서 self라는 단어를 사용함.\n"
   ]
  }
 ],
 "metadata": {
  "kernelspec": {
   "display_name": "Python 3 (ipykernel)",
   "language": "python",
   "name": "python3"
  },
  "language_info": {
   "codemirror_mode": {
    "name": "ipython",
    "version": 3
   },
   "file_extension": ".py",
   "mimetype": "text/x-python",
   "name": "python",
   "nbconvert_exporter": "python",
   "pygments_lexer": "ipython3",
   "version": "3.9.13"
  }
 },
 "nbformat": 4,
 "nbformat_minor": 5
}
