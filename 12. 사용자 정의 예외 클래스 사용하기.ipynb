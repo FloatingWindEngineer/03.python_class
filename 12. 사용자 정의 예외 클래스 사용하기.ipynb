{
 "cells": [
  {
   "cell_type": "markdown",
   "id": "13076efb-e5eb-4145-9f6d-066d134f2418",
   "metadata": {
    "tags": []
   },
   "source": [
    "# 12차시 사용자 정의 예외 클래스 사용하기\n"
   ]
  },
  {
   "cell_type": "markdown",
   "id": "d30ef4bb-75b6-4c39-941e-1d8a256d327e",
   "metadata": {},
   "source": [
    "## 1. raise구문과 사용자 정의 Exception 클래스를 사용하기"
   ]
  },
  {
   "cell_type": "markdown",
   "id": "199b0969-918f-4668-a32c-454d26cf5cfb",
   "metadata": {},
   "source": [
    "### 1.1 raise구문 정의\n",
    "- 사용자가 강제로 예외를 일으킬 때 사용하는 구문 (에러가 아니더라도)"
   ]
  },
  {
   "cell_type": "code",
   "execution_count": 1,
   "id": "dca25751",
   "metadata": {},
   "outputs": [
    {
     "name": "stdout",
     "output_type": "stream",
     "text": [
      "NameError is Catched\n"
     ]
    }
   ],
   "source": [
    "def raiseErrorFunc():\n",
    "    raise NameError\n",
    "\n",
    "try:\n",
    "    raiseErrorFunc()\n",
    "except:  \n",
    "    print(\"NameError is Catched\")"
   ]
  },
  {
   "cell_type": "markdown",
   "id": "9e1625f8",
   "metadata": {},
   "source": [
    "### 1.2 사용자 정의 예외 클래스 사용\n",
    "- 내장 예외만으로는 한계가 있기 때문에 상요자 정의 예외를 정의할 수 있음"
   ]
  },
  {
   "cell_type": "code",
   "execution_count": 3,
   "id": "208c17ff",
   "metadata": {},
   "outputs": [
    {
     "name": "stdout",
     "output_type": "stream",
     "text": [
      "Error - Second argument of PositiveDivide is -3\n"
     ]
    }
   ],
   "source": [
    "class NegativeDivisionError(Exception):\n",
    "    def __init__(self, value):\n",
    "        self.value = value\n",
    "        \n",
    "def positiveDivide(a, b):\n",
    "    if(b<0):                          # 0보다 적은 경우 NegativeDivisionError 발생\n",
    "        raise NegativeDivisionError(b)\n",
    "    return a/b\n",
    "\n",
    "try:\n",
    "    ret = positiveDivide(10,-3)\n",
    "    print('10 / 3 = {0}'.format(ret))\n",
    "except NegativeDivisionError as e:\n",
    "    print('Error - Second argument of PositiveDivide is', e.value)\n",
    "except ZeroDivisionError as e:\n",
    "    print('Error - ',e.args[0])\n"
   ]
  },
  {
   "cell_type": "markdown",
   "id": "ec12bc35",
   "metadata": {},
   "source": [
    "Q. 사용자 정의 Exception 클래스는 부모클래스로 ( ) 클래스를 상속 받아야 합니다.  \n",
    "A. Exception"
   ]
  }
 ],
 "metadata": {
  "kernelspec": {
   "display_name": "Python 3 (ipykernel)",
   "language": "python",
   "name": "python3"
  },
  "language_info": {
   "codemirror_mode": {
    "name": "ipython",
    "version": 3
   },
   "file_extension": ".py",
   "mimetype": "text/x-python",
   "name": "python",
   "nbconvert_exporter": "python",
   "pygments_lexer": "ipython3",
   "version": "3.9.13"
  }
 },
 "nbformat": 4,
 "nbformat_minor": 5
}
