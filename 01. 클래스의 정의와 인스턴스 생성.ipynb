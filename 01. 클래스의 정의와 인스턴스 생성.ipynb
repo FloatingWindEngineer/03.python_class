{
 "cells": [
  {
   "cell_type": "markdown",
   "id": "13076efb-e5eb-4145-9f6d-066d134f2418",
   "metadata": {
    "tags": []
   },
   "source": [
    "# 1차시 클래스의 정의와 인스턴스 생성\n",
    "\n",
    "- 클래스를 정의하는 방법과 인스턴스 객체를 생성하는 방법을 학습한다."
   ]
  },
  {
   "cell_type": "markdown",
   "id": "d30ef4bb-75b6-4c39-941e-1d8a256d327e",
   "metadata": {},
   "source": [
    "## 1. 클래스와 인스턴스의 의미"
   ]
  },
  {
   "cell_type": "markdown",
   "id": "199b0969-918f-4668-a32c-454d26cf5cfb",
   "metadata": {},
   "source": [
    "### 1.1 클래스란?\n",
    "- 개발자에게 필요한 새로운 형식을 정의하는 것을 의미\n",
    "- 속석과 데이터를 변형하는 함수를 같은 이름 공간에 묶음\n",
    "\n",
    "예시)\n",
    "- 직원클래스 : 사번데이터, 이름데이터, 부서코드, 입사액션, 퇴사액션\n",
    "- 제품클래스 : 제품번호, 제품명, 설명, 제품등록액션, 수정액션"
   ]
  },
  {
   "cell_type": "markdown",
   "id": "9cb10fad-b897-4e54-91c3-58942d2c8c58",
   "metadata": {},
   "source": [
    "### 1.2 인스턴스란?\n",
    "- 클래스를 복사해서 생성한 복사본  \n",
    "\n",
    "예시)\n",
    "- 직원인스턴스(copy) -> 직원클래스\n",
    "- 직원인스턴스(사번데이터, 이름데이터, 부서코드) -> 직원클래스(사번데이터, 이름데이터, 부서코드, 입사액션, 퇴사액션)"
   ]
  },
  {
   "cell_type": "markdown",
   "id": "6548a82d-247c-4529-85ca-d4f829637caa",
   "metadata": {},
   "source": [
    "### 1.3 클래스를 알기 위한 사전 용어 설명\n",
    "- 객체지향프로그래밍의 3가지 특징\n",
    "  1) 추상성 : 꼭 필요한 부분만 구현하는 것\n",
    "  2) 상속성 : 부모 클래스에서 공통부분을 상속받는 것\n",
    "  3) 다형성 : 동일한 인터페이스에 대해 구체적인 인스턴스마다 다른 동작을 할 수도 있는 것"
   ]
  },
  {
   "cell_type": "markdown",
   "id": "ba06c002-1d1f-4ac6-86bc-fb61746b313d",
   "metadata": {},
   "source": [
    "### 1.4 클래스와 객체의 관계\n",
    "- 클래스 : 쿠키틀\n",
    "- 인스턴스 객체 : 쿠키  \n",
    "- 객체 지향 프로그램을 사용한다는 것은 레고 블록처럼 조립을 통한 개발이 가능하다는 뜻"
   ]
  },
  {
   "cell_type": "markdown",
   "id": "2f25d688-ff65-4ada-bc88-199979682f1a",
   "metadata": {},
   "source": [
    "## 2. 클래스와 인스턴스를 어떻게 정의 및 사용하는가?"
   ]
  },
  {
   "cell_type": "markdown",
   "id": "4ff28842-736d-40c4-b85f-01cf1702a05a",
   "metadata": {},
   "source": [
    "### 2.1 클래스 정의(define)\n",
    "- 클래스의 멤버는 멤버 변수와 멤버 메서드로 구성\n",
    "\n",
    "class 클래스명(상위클래스):  \n",
    "&emsp;\"\"\"  \n",
    "&emsp;클래스에 대한 설명(주석)  \n",
    "&emsp;\"\"\"  \n",
    "&emsp;def 함수명(self, 인자1, 인자2 ...):  \n",
    "&emsp;&emsp;statement1  \n",
    "&emsp;&emsp;statement2  \n",
    "&emsp;&emsp;return"
   ]
  },
  {
   "cell_type": "markdown",
   "id": "bd677491-68a1-428f-88b1-606a32c57d8b",
   "metadata": {},
   "source": [
    "### 2.2 예시를 통한 학습\n",
    "- Person 클래스를 정의하고 p1이라는 인스턴스 객체를 생성할 수 있음"
   ]
  },
  {
   "cell_type": "code",
   "execution_count": 4,
   "id": "d7aa202d-2cf9-4572-8245-d9b04c84c170",
   "metadata": {},
   "outputs": [
    {
     "name": "stdout",
     "output_type": "stream",
     "text": [
      "My name is Default Name\n"
     ]
    }
   ],
   "source": [
    "# class01.py\n",
    "\n",
    "# 클래스 정의\n",
    "class Person:\n",
    "    name = \"Default Name\"\n",
    "    def print(self):\n",
    "        print(\"My name is {0}\".format(self.name))\n",
    "\n",
    "# 인스턴스 생성       \n",
    "p1 = Person()\n",
    "p1.print()"
   ]
  },
  {
   "cell_type": "markdown",
   "id": "0cbd0caa-811f-4878-b40d-24241512a1ee",
   "metadata": {},
   "source": [
    "<<부연설명>>  \n",
    "이름공간(네임스페이스)&emsp; 이름공간(네임스페이스)    \n",
    "p1(인스턴스)&emsp;&emsp;&emsp;&emsp;&emsp;-> Person(클래스)  \n",
    "&emsp;&emsp;&emsp;&emsp;&emsp;&emsp;&emsp;&emsp;&emsp;&emsp;&emsp;&emsp;name = \"Default Name\"  \n",
    "- 클래스 객체와 인스턴스 객체 간의 이름 공간  "
   ]
  },
  {
   "cell_type": "code",
   "execution_count": 6,
   "id": "52ea023a-0db4-4611-9d55-ba98293cfa9a",
   "metadata": {},
   "outputs": [
    {
     "name": "stdout",
     "output_type": "stream",
     "text": [
      "My name is 전우치\n"
     ]
    }
   ],
   "source": [
    "# 인스턴스 객체에 자기 데이터를 로컬에 저장하는 방법\n",
    "p1.name = \"전우치\"\n",
    "p1.print()"
   ]
  },
  {
   "cell_type": "markdown",
   "id": "8679fea1-eccb-4001-8bee-044867cc5cf2",
   "metadata": {},
   "source": [
    "<<부연설명>>  \n",
    "네임스페이스&emsp;&emsp;&emsp; 네임스페이스  \n",
    "p1(인스턴스)&emsp;&emsp; -> Person(클래스)  \n",
    "name = \"전우치\" &emsp; name = \"Default Name\"  \n",
    "&emsp;&emsp;&emsp;&emsp;&emsp;&emsp;&emsp;&emsp;&emsp; print()  "
   ]
  },
  {
   "cell_type": "markdown",
   "id": "08eafdb9-dcd0-4876-8a8d-f7852f5866f6",
   "metadata": {},
   "source": [
    "## Summary\n",
    "쿠키 틀은 클래스와 같고 쿠키는 인스턴스와 동일하다.\n"
   ]
  }
 ],
 "metadata": {
  "kernelspec": {
   "display_name": "Python 3 (ipykernel)",
   "language": "python",
   "name": "python3"
  },
  "language_info": {
   "codemirror_mode": {
    "name": "ipython",
    "version": 3
   },
   "file_extension": ".py",
   "mimetype": "text/x-python",
   "name": "python",
   "nbconvert_exporter": "python",
   "pygments_lexer": "ipython3",
   "version": "3.9.13"
  }
 },
 "nbformat": 4,
 "nbformat_minor": 5
}
