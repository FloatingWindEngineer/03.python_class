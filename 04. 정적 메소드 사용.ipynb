{
 "cells": [
  {
   "cell_type": "markdown",
   "id": "13076efb-e5eb-4145-9f6d-066d134f2418",
   "metadata": {
    "tags": []
   },
   "source": [
    "# 4차시 정적 메소드 사용\n",
    "\n",
    "- 인스턴스를 생성하지 않고 메소드를 호출할 수 있나요?"
   ]
  },
  {
   "cell_type": "markdown",
   "id": "d30ef4bb-75b6-4c39-941e-1d8a256d327e",
   "metadata": {},
   "source": [
    "## 1. 정적 메소드의 정의와 활용"
   ]
  },
  {
   "cell_type": "markdown",
   "id": "199b0969-918f-4668-a32c-454d26cf5cfb",
   "metadata": {},
   "source": [
    "### 1.1 정적 메소드의 정의(define)\n",
    "- 정적 메소드 또는 스태틱 메소드로 혼용\n",
    "- 클래스에서 직접 호출할 수 있는 메소드\n",
    "- 메소드를 정의할 때 인스턴스 객체를 참조하는 self라는 인자를 선언하지 않음\n",
    "\n",
    "호출방법 : MyCalc.my_add (클래스명.메소드명)  \n",
    "\n",
    "### 1.2 정적 메소드의 특징\n",
    "- 클래스 인스턴스에는 적용되지 않는 메소드\n",
    "- 클래스.메소드 명으로 호출 가능"
   ]
  },
  {
   "cell_type": "code",
   "execution_count": 1,
   "id": "7a00658c-9f29-459f-935d-34ad3c819415",
   "metadata": {},
   "outputs": [
    {
     "name": "stdout",
     "output_type": "stream",
     "text": [
      "12\n"
     ]
    }
   ],
   "source": [
    "# 정적메소드.py\n",
    "\n",
    "class MyCalc(object):\n",
    "    @staticmethod            # 파이썬에서 사용되는 데코레이터라는 문법으로, 메타 데이터를 전달하는 용도로 사용\n",
    "    def my_add(x, y):\n",
    "        return x+y\n",
    "    \n",
    "#클래스에서 직접 호출한다.\n",
    "a = MyCalc.my_add(5,7)       # 인스턴스 객체 생성 없이, 클래스이름.메소드명으로 호출\n",
    "print(a)   "
   ]
  },
  {
   "cell_type": "markdown",
   "id": "08eafdb9-dcd0-4876-8a8d-f7852f5866f6",
   "metadata": {},
   "source": [
    "## Summary\n",
    "- 파이썬에서 정적 메소드를 정의하면, 자주 호출하는 메소드를 쉽게 사용할 수 있음."
   ]
  }
 ],
 "metadata": {
  "kernelspec": {
   "display_name": "Python 3 (ipykernel)",
   "language": "python",
   "name": "python3"
  },
  "language_info": {
   "codemirror_mode": {
    "name": "ipython",
    "version": 3
   },
   "file_extension": ".py",
   "mimetype": "text/x-python",
   "name": "python",
   "nbconvert_exporter": "python",
   "pygments_lexer": "ipython3",
   "version": "3.9.13"
  }
 },
 "nbformat": 4,
 "nbformat_minor": 5
}
