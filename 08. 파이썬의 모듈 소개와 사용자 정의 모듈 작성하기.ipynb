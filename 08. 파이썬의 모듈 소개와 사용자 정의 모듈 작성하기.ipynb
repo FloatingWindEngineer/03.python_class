{
 "cells": [
  {
   "cell_type": "markdown",
   "id": "13076efb-e5eb-4145-9f6d-066d134f2418",
   "metadata": {
    "tags": []
   },
   "source": [
    "# 8차시 모듈\n",
    "\n",
    "- 모듈이 뭘까요?"
   ]
  },
  {
   "cell_type": "markdown",
   "id": "d30ef4bb-75b6-4c39-941e-1d8a256d327e",
   "metadata": {},
   "source": [
    "## 1. 파이썬 모듈(Library)의 이해"
   ]
  },
  {
   "cell_type": "markdown",
   "id": "199b0969-918f-4668-a32c-454d26cf5cfb",
   "metadata": {},
   "source": [
    "### 1.1 모듈의 정의\n",
    "- 여러 코드를 묶어 다른 곳에서 재사용 할 수 있는 코드의 모음\n",
    "\n",
    "예시) 수학, 합집합 모듈 : 수학, 합집합\n",
    "\n",
    "모듈: 내장모듈, 사용자 정의 모듈  \n"
   ]
  },
  {
   "cell_type": "markdown",
   "id": "1f64aefd",
   "metadata": {},
   "source": [
    "## 2. 내장 모듈의 이해와 활용\n",
    "\n",
    "### 2.1 내장모듈 : \n",
    " - 파이썬에서 기본적으로 제공되는 모듈\n",
    " - 다양한 모듈을 제공: 문자열(string), 날짜(date), 시간(time), 수학(math), 랜덤(random), 파일(file), sqlite3, os, sys, xml, http 등 약 200개 정도의 다양한 모듈들이 제공됨"
   ]
  },
  {
   "cell_type": "code",
   "execution_count": 15,
   "id": "d3567cd6",
   "metadata": {
    "scrolled": false
   },
   "outputs": [
    {
     "data": {
      "text/plain": [
       "1.0000066849139877"
      ]
     },
     "execution_count": 15,
     "metadata": {},
     "output_type": "execute_result"
    }
   ],
   "source": [
    "# 내장모듈\n",
    "import math   #math 모듈을 메모리에 탑재\n",
    "\n",
    "math.log(2.7183)  # 모듈명.함수명"
   ]
  },
  {
   "cell_type": "code",
   "execution_count": 4,
   "id": "b626d159",
   "metadata": {
    "scrolled": true
   },
   "outputs": [
    {
     "data": {
      "text/plain": [
       "3.141592653589793"
      ]
     },
     "execution_count": 4,
     "metadata": {},
     "output_type": "execute_result"
    }
   ],
   "source": [
    "math.pi"
   ]
  },
  {
   "cell_type": "code",
   "execution_count": 12,
   "id": "59369d28",
   "metadata": {},
   "outputs": [
    {
     "data": {
      "text/plain": [
       "['__doc__',\n",
       " '__loader__',\n",
       " '__name__',\n",
       " '__package__',\n",
       " '__spec__',\n",
       " 'acos',\n",
       " 'acosh',\n",
       " 'asin',\n",
       " 'asinh',\n",
       " 'atan',\n",
       " 'atan2',\n",
       " 'atanh',\n",
       " 'ceil',\n",
       " 'comb',\n",
       " 'copysign',\n",
       " 'cos',\n",
       " 'cosh',\n",
       " 'degrees',\n",
       " 'dist',\n",
       " 'e',\n",
       " 'erf',\n",
       " 'erfc',\n",
       " 'exp',\n",
       " 'expm1',\n",
       " 'fabs',\n",
       " 'factorial',\n",
       " 'floor',\n",
       " 'fmod',\n",
       " 'frexp',\n",
       " 'fsum',\n",
       " 'gamma',\n",
       " 'gcd',\n",
       " 'hypot',\n",
       " 'inf',\n",
       " 'isclose',\n",
       " 'isfinite',\n",
       " 'isinf',\n",
       " 'isnan',\n",
       " 'isqrt',\n",
       " 'lcm',\n",
       " 'ldexp',\n",
       " 'lgamma',\n",
       " 'log',\n",
       " 'log10',\n",
       " 'log1p',\n",
       " 'log2',\n",
       " 'modf',\n",
       " 'nan',\n",
       " 'nextafter',\n",
       " 'perm',\n",
       " 'pi',\n",
       " 'pow',\n",
       " 'prod',\n",
       " 'radians',\n",
       " 'remainder',\n",
       " 'sin',\n",
       " 'sinh',\n",
       " 'sqrt',\n",
       " 'tan',\n",
       " 'tanh',\n",
       " 'tau',\n",
       " 'trunc',\n",
       " 'ulp']"
      ]
     },
     "execution_count": 12,
     "metadata": {},
     "output_type": "execute_result"
    }
   ],
   "source": [
    "dir(math)     # 정의한 함수 리스트 확인"
   ]
  },
  {
   "cell_type": "markdown",
   "id": "8bdb91ca",
   "metadata": {},
   "source": [
    "## 3. 직접 모듈의 이해와 활용\n",
    "\n",
    "### 3.1 사용자 정의 모듈 : \n",
    " - 파이썬에서 기본적으로 제공되는 모듈 외 사용자가 직접 작성한 모듈\n",
    " - 필요시, 모듈 작성 및 제공 가능 : 내가 만든 모듈을 다른 개발자에게 제공하거나 다른 개발자가 만든 모듈을 제공 받을 수 있음"
   ]
  },
  {
   "cell_type": "code",
   "execution_count": 8,
   "id": "bdc28f6c",
   "metadata": {},
   "outputs": [],
   "source": [
    "# 사용자 정의 모듈\n",
    "# 함수를 구현한 사용자 정의 모듈을 c:\\python36\\lib에 복사\n",
    "\n",
    "# simpleset.py\n",
    "from fuctools import *\n",
    "\n",
    "def intersect(*ar):                     # 교집합    \n",
    "    return reduce(__intersectSC,ar)\n",
    "\n",
    "def __intersectSC(listX,listY):\n",
    "    setList =[]\n",
    "    for x in listX:\n",
    "        if x in listY:\n",
    "            setList.append(x)\n",
    "    return setList\n",
    "\n",
    "def difference(*ar):                    # 차집합\n",
    "    setList = []\n",
    "    intersectSet = intersect(*ar)\n",
    "    unionSet = union(*ar)\n",
    "    for x in unionSet:\n",
    "        if not x in intersectSet:\n",
    "            setList.append(x)\n",
    "    return setList\n",
    "\n",
    "def union(*ar):                          # 합집합\n",
    "    setList = []\n",
    "    for item in ar:\n",
    "        for x in item:\n",
    "            if not x in setList:\n",
    "                setList.append(x)\n",
    "    return setList\n",
    "    \n"
   ]
  },
  {
   "cell_type": "code",
   "execution_count": 1,
   "id": "78b3d7ac",
   "metadata": {
    "scrolled": false
   },
   "outputs": [
    {
     "data": {
      "text/plain": [
       "['WRAPPER_ASSIGNMENTS',\n",
       " 'WRAPPER_UPDATES',\n",
       " '__builtins__',\n",
       " '__cached__',\n",
       " '__doc__',\n",
       " '__file__',\n",
       " '__intersectSC',\n",
       " '__loader__',\n",
       " '__name__',\n",
       " '__package__',\n",
       " '__spec__',\n",
       " 'cache',\n",
       " 'cached_property',\n",
       " 'cmp_to_key',\n",
       " 'difference',\n",
       " 'intersect',\n",
       " 'lru_cache',\n",
       " 'partial',\n",
       " 'partialmethod',\n",
       " 'reduce',\n",
       " 'singledispatch',\n",
       " 'singledispatchmethod',\n",
       " 'total_ordering',\n",
       " 'union',\n",
       " 'update_wrapper',\n",
       " 'wraps']"
      ]
     },
     "execution_count": 1,
     "metadata": {},
     "output_type": "execute_result"
    }
   ],
   "source": [
    "# 파이썬 라이브러리 폴더(c:\\python36\\lib)에 simpleset.py 붙여넣기 후\n",
    "import simpleset\n",
    "dir(simpleset)"
   ]
  },
  {
   "cell_type": "code",
   "execution_count": 2,
   "id": "527653f9",
   "metadata": {},
   "outputs": [
    {
     "data": {
      "text/plain": [
       "[1, 2, 3, 4, 5]"
      ]
     },
     "execution_count": 2,
     "metadata": {},
     "output_type": "execute_result"
    }
   ],
   "source": [
    "setA=[1,2,3]\n",
    "setB=[3,4,5]\n",
    "simpleset.union(setA,setB)"
   ]
  },
  {
   "cell_type": "markdown",
   "id": "7a4d1085",
   "metadata": {},
   "source": [
    "Q. 내장 모듈을 임포트 받을 때는 어떻게 해결하나요?  \n",
    "A. import 모듈명"
   ]
  }
 ],
 "metadata": {
  "kernelspec": {
   "display_name": "Python 3 (ipykernel)",
   "language": "python",
   "name": "python3"
  },
  "language_info": {
   "codemirror_mode": {
    "name": "ipython",
    "version": 3
   },
   "file_extension": ".py",
   "mimetype": "text/x-python",
   "name": "python",
   "nbconvert_exporter": "python",
   "pygments_lexer": "ipython3",
   "version": "3.9.13"
  }
 },
 "nbformat": 4,
 "nbformat_minor": 5
}
