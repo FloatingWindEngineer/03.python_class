{
 "cells": [
  {
   "cell_type": "markdown",
   "id": "13076efb-e5eb-4145-9f6d-066d134f2418",
   "metadata": {
    "tags": []
   },
   "source": [
    "# 11차시 try except로 예외처리하기\n"
   ]
  },
  {
   "cell_type": "markdown",
   "id": "d30ef4bb-75b6-4c39-941e-1d8a256d327e",
   "metadata": {},
   "source": [
    "## 1. try except 학습하기"
   ]
  },
  {
   "cell_type": "markdown",
   "id": "199b0969-918f-4668-a32c-454d26cf5cfb",
   "metadata": {},
   "source": [
    "### 1.1 정의 : 실행시간에 에러가 발생하여 코드가 중단되는 것을 방지할 때 사용\n"
   ]
  },
  {
   "cell_type": "markdown",
   "id": "ce13043f",
   "metadata": {},
   "source": [
    "try:  \n",
    "    <예외 발생 가능성이 있는 문장>  \n",
    "except <예외 종류>:  \n",
    "    <예외 처리 문장>  \n",
    "except (예외1, 예외2):  \n",
    "    <예외 처리 문장>  \n",
    "except 예외 as 인자:  \n",
    "    <예외 처리 문장>  \n",
    "else:  \n",
    "    <예외가 발생하지 않은 경우 수행될 문장>  \n",
    "finally:  \n",
    "    <예외 발생 유무에 상관없이 try블록 이후 수행할 문장>  \n",
    "\n"
   ]
  },
  {
   "cell_type": "code",
   "execution_count": 1,
   "id": "208c17ff",
   "metadata": {},
   "outputs": [
    {
     "name": "stdout",
     "output_type": "stream",
     "text": [
      "모든 인자는 숫자여야 함\n"
     ]
    }
   ],
   "source": [
    "#예시1\n",
    "\n",
    "def divide(a, b):\n",
    "    return a/b\n",
    "\n",
    "try:\n",
    "    c = divide(5, 'string')\n",
    "except ZeroDivisionError:\n",
    "    print('두 번째 인자는 0이여서는 안됨')\n",
    "except TypeError:                         # 이 예외 형식으로 처리가 됨\n",
    "    print('모든 인자는 숫자여야 함')       # 이 예외 형식으로 처리가 됨\n",
    "except:\n",
    "    print('음 무슨 에러인지 모르겠음')\n"
   ]
  },
  {
   "cell_type": "code",
   "execution_count": 2,
   "id": "7364ce4d",
   "metadata": {
    "scrolled": true
   },
   "outputs": [
    {
     "name": "stdout",
     "output_type": "stream",
     "text": [
      "모든 인자는 숫자여야 함\n",
      "항상 finally 블럭은 수행됨\n"
     ]
    }
   ],
   "source": [
    "#예시1\n",
    "\n",
    "def divide(a, b):\n",
    "    return a/b\n",
    "\n",
    "try:\n",
    "    c = divide(5, 'string')\n",
    "except ZeroDivisionError:\n",
    "    print('두 번째 인자는 0이여서는 안됨')\n",
    "except TypeError:                         # 이 예외 형식으로 처리가 됨\n",
    "    print('모든 인자는 숫자여야 함')       # 이 예외 형식으로 처리가 됨\n",
    "except:\n",
    "    print('ZeroDivisionError, TypeError를 제외한 다른 에러')\n",
    "else:\n",
    "    print('Result: {0}'.format(c))\n",
    "finally:\n",
    "    print('항상 finally 블럭은 수행됨')\n",
    "\n",
    "    "
   ]
  },
  {
   "cell_type": "code",
   "execution_count": 3,
   "id": "060fe1e9",
   "metadata": {},
   "outputs": [
    {
     "name": "stdout",
     "output_type": "stream",
     "text": [
      "Result: 2.5\n",
      "항상 finally 블럭은 수행됨\n"
     ]
    }
   ],
   "source": [
    "#예시1\n",
    "\n",
    "def divide(a, b):\n",
    "    return a/b\n",
    "\n",
    "try:\n",
    "    c = divide(5, 2)\n",
    "except ZeroDivisionError:\n",
    "    print('두 번째 인자는 0이여서는 안됨')\n",
    "except TypeError:                         # 이 예외 형식으로 처리가 됨\n",
    "    print('모든 인자는 숫자여야 함')       # 이 예외 형식으로 처리가 됨\n",
    "except:\n",
    "    print('ZeroDivisionError, TypeError를 제외한 다른 에러')\n",
    "else:\n",
    "    print('Result: {0}'.format(c))\n",
    "finally:\n",
    "    print('항상 finally 블럭은 수행됨')\n",
    "\n",
    "    "
   ]
  },
  {
   "cell_type": "markdown",
   "id": "ec12bc35",
   "metadata": {},
   "source": [
    "이번시간에는  \n",
    "연산작업이나, 파일 접근 시 에러가 날 수 있다는 가능성을 늘! 염두 해 두고  \n",
    "try except 구문으로 묶어서 처리해야 합니다."
   ]
  }
 ],
 "metadata": {
  "kernelspec": {
   "display_name": "Python 3 (ipykernel)",
   "language": "python",
   "name": "python3"
  },
  "language_info": {
   "codemirror_mode": {
    "name": "ipython",
    "version": 3
   },
   "file_extension": ".py",
   "mimetype": "text/x-python",
   "name": "python",
   "nbconvert_exporter": "python",
   "pygments_lexer": "ipython3",
   "version": "3.9.13"
  }
 },
 "nbformat": 4,
 "nbformat_minor": 5
}
