{
 "cells": [
  {
   "cell_type": "markdown",
   "id": "13076efb-e5eb-4145-9f6d-066d134f2418",
   "metadata": {
    "tags": []
   },
   "source": [
    "# 5차시 private멤버사용\n",
    "\n",
    "- 파이썬에서 private 멤버를 선언하는 방법에 대해 학습"
   ]
  },
  {
   "cell_type": "markdown",
   "id": "d30ef4bb-75b6-4c39-941e-1d8a256d327e",
   "metadata": {},
   "source": [
    "## 1. private 멤버변수의 정의와 활용"
   ]
  },
  {
   "cell_type": "markdown",
   "id": "199b0969-918f-4668-a32c-454d26cf5cfb",
   "metadata": {},
   "source": [
    "### 1.1 private 멤버변수의 정의\n",
    "- 클래스 내부의 멤버 변수 중 숨기고 싶은 변수\n",
    "\n",
    "### 1.2 private 멤버변수의 특징\n",
    "- 클래스의 내부 변수는 일반적으로 public 속성을 갖기 때문에 외부에서 마음대로 접근하거나 변경할 수 있음 \n",
    "- 이름 변경(Naming Mangling)  \n",
    "  1) 외부에서 접근이 어렵도록 하는 파이썬의 특징  \n",
    "  2) 외부에서 클래스 내부의 멤버 변수를 호출할 때, 원래 이름이 아닌 _클래스명__멤버 변수로 변경됨\n"
   ]
  },
  {
   "cell_type": "code",
   "execution_count": 1,
   "id": "bdc28f6c",
   "metadata": {},
   "outputs": [],
   "source": [
    "#__name -> _클래스명__name"
   ]
  },
  {
   "cell_type": "markdown",
   "id": "c56f8297",
   "metadata": {},
   "source": [
    "### 1.3 식별자\n",
    "- 키워드는 아니지만 private 멤버 변수로 사용하기 위해, 미리 정해진 용도로 사용하는 문자\n",
    "\n",
    "식별자<br>(예약어) | 정의 | 예시  \n",
    ":--:|:--:|:--:  \n",
    "_* | 모듈(파일) 안에서 _로 시작하는 식별자를 정의하면 다른 파일에서 접근할 수 없음 | _name\n",
    "\\_\\_*__ | 식별자의 앞뒤에 __가 붙어 있는 식별자는 시스템에서 정의한 이름 | \\_\\_doc__\n",
    "__* | 클래스 안에서 외부로 노출되지 않는 식별자로 인식 | __name\n"
   ]
  },
  {
   "cell_type": "code",
   "execution_count": 10,
   "id": "7a00658c-9f29-459f-935d-34ad3c819415",
   "metadata": {},
   "outputs": [
    {
     "name": "stdout",
     "output_type": "stream",
     "text": [
      "100,전우치,12000\n"
     ]
    }
   ],
   "source": [
    "# BankAccount.py\n",
    "# 은행의 계정을 표현한 클래스\n",
    "\n",
    "class BankAccount:\n",
    "    __id = 0\n",
    "    __name =\"\"\n",
    "    __balance = 0\n",
    "\n",
    "    def __init__(self,id,name,balance):\n",
    "        self.__id = id\n",
    "        self.__name = name\n",
    "        self.__balance = balance\n",
    "    def deposit(self,amount):\n",
    "        self.__balance += amount\n",
    "    def withdraw(self,amount):\n",
    "        self.__balance -= amount\n",
    "    def __str__(self):\n",
    "        return \"{0},{1},{2}\".format(self.__id,self.__name,self.__balance)\n",
    "\n",
    "#인스턱스 객체를 생성\n",
    "account1 = BankAccount(100,\"전우치\",15000)\n",
    "account1.withdraw(3000)\n",
    "print(account1)"
   ]
  },
  {
   "cell_type": "code",
   "execution_count": 8,
   "id": "93d5a37f",
   "metadata": {},
   "outputs": [
    {
     "ename": "AttributeError",
     "evalue": "'BankAccount' object has no attribute '__balance'",
     "output_type": "error",
     "traceback": [
      "\u001b[1;31m---------------------------------------------------------------------------\u001b[0m",
      "\u001b[1;31mAttributeError\u001b[0m                            Traceback (most recent call last)",
      "\u001b[1;32m~\\AppData\\Local\\Temp\\ipykernel_26048\\2087634112.py\u001b[0m in \u001b[0;36m<module>\u001b[1;34m\u001b[0m\n\u001b[0;32m      1\u001b[0m \u001b[1;31m#에러가 발생하는 코드(원래 내부이름으로 접근하는 코드)\u001b[0m\u001b[1;33m\u001b[0m\u001b[1;33m\u001b[0m\u001b[0m\n\u001b[1;32m----> 2\u001b[1;33m \u001b[0mprint\u001b[0m\u001b[1;33m(\u001b[0m\u001b[0maccount1\u001b[0m\u001b[1;33m.\u001b[0m\u001b[0m__balance\u001b[0m\u001b[1;33m)\u001b[0m\u001b[1;33m\u001b[0m\u001b[1;33m\u001b[0m\u001b[0m\n\u001b[0m",
      "\u001b[1;31mAttributeError\u001b[0m: 'BankAccount' object has no attribute '__balance'"
     ]
    }
   ],
   "source": [
    "#에러가 발생하는 코드(원래 내부이름으로 접근하는 코드)\n",
    "print(account1.__balance)"
   ]
  },
  {
   "cell_type": "code",
   "execution_count": 9,
   "id": "ee4ab978",
   "metadata": {},
   "outputs": [
    {
     "name": "stdout",
     "output_type": "stream",
     "text": [
      "12000\n"
     ]
    }
   ],
   "source": [
    "#클래스 외부에서는 아래와 같이 접근\n",
    "print(account1._BankAccount__balance)"
   ]
  },
  {
   "cell_type": "markdown",
   "id": "54ca89c2",
   "metadata": {},
   "source": [
    "Q. private 멤버 변수를 초기화하려면 어떤 기호를 앞에 붙여야 하나요?  \n",
    "A. __\n"
   ]
  }
 ],
 "metadata": {
  "kernelspec": {
   "display_name": "Python 3 (ipykernel)",
   "language": "python",
   "name": "python3"
  },
  "language_info": {
   "codemirror_mode": {
    "name": "ipython",
    "version": 3
   },
   "file_extension": ".py",
   "mimetype": "text/x-python",
   "name": "python",
   "nbconvert_exporter": "python",
   "pygments_lexer": "ipython3",
   "version": "3.9.13"
  }
 },
 "nbformat": 4,
 "nbformat_minor": 5
}
