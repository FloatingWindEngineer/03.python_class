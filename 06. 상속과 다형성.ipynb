{
 "cells": [
  {
   "cell_type": "markdown",
   "id": "13076efb-e5eb-4145-9f6d-066d134f2418",
   "metadata": {
    "tags": []
   },
   "source": [
    "# 6차시 상속과 다형성\n",
    "\n",
    "- 부모 클래스를 상속받는 방법과 다형성이 있는 멤버를 구현하는 방법 학습"
   ]
  },
  {
   "cell_type": "markdown",
   "id": "d30ef4bb-75b6-4c39-941e-1d8a256d327e",
   "metadata": {},
   "source": [
    "## 1. 상속의 정의와 활용"
   ]
  },
  {
   "cell_type": "markdown",
   "id": "199b0969-918f-4668-a32c-454d26cf5cfb",
   "metadata": {},
   "source": [
    "### 1.1 상속의 정의\n",
    "- 부모 클래스의 모든 멤버를 자식에게 물려줄 수 있는 것\n",
    "\n",
    "부모클래스 <- 자식클래스  \n",
    "Person <- Student  \n",
    "일반화 <- 특정기능 추가  \n"
   ]
  },
  {
   "cell_type": "code",
   "execution_count": 1,
   "id": "d3567cd6",
   "metadata": {},
   "outputs": [],
   "source": [
    "# 부모 클래스인 Person의 코드\n",
    "\n",
    "class Person:\n",
    "    \"부모 클래스\"\n",
    "    def __init__(self, name, phoneNumber):\n",
    "        self.Name = name\n",
    "        self.PhoneNumber = phoneNumber\n",
    "    def printinfo(self):\n",
    "        print(\"Info(Name:{0}, Phone Number: {1})\". format\n",
    "             (self.Name, self.PhoneNumber))\n"
   ]
  },
  {
   "cell_type": "code",
   "execution_count": 2,
   "id": "bdc28f6c",
   "metadata": {},
   "outputs": [],
   "source": [
    "# 자식 클래스인 Student의 코드\n",
    "\n",
    "class Student(Person):\n",
    "    \"자식 클래스\"\n",
    "    def __init__(self, name, phoneNumber, subject, studentID):\n",
    "        Person.__init__(self, name, phoneNumber)  #상속받은 부모 클래스의 생성자를 명시적으로 호출하는 방법\n",
    "        self.subject = subject\n",
    "        self.studentID = studentID"
   ]
  },
  {
   "cell_type": "code",
   "execution_count": 3,
   "id": "78b3d7ac",
   "metadata": {},
   "outputs": [
    {
     "data": {
      "text/plain": [
       "{'Name': '이순신',\n",
       " 'PhoneNumber': '010-333',\n",
       " 'subject': '컴공',\n",
       " 'studentID': '991122'}"
      ]
     },
     "execution_count": 3,
     "metadata": {},
     "output_type": "execute_result"
    }
   ],
   "source": [
    "p = Person(\"전우치\", \"010-222\")\n",
    "s = Student(\"이순신\", \"010-333\", \"컴공\", \"991122\")\n",
    "p.__dict__       #딕셔너리 확인 (키, 밸류)\n",
    "s.__dict__"
   ]
  },
  {
   "cell_type": "markdown",
   "id": "e240de75",
   "metadata": {},
   "source": [
    "### 1.2 다형성(Override)\n",
    "- 상속받은 메소드의 바디를 덮어쓰기\n"
   ]
  },
  {
   "cell_type": "code",
   "execution_count": 5,
   "id": "b7015846",
   "metadata": {},
   "outputs": [
    {
     "name": "stdout",
     "output_type": "stream",
     "text": [
      "Info(Name:전우치, Phone Number: 010-123-1234)\n",
      "Info(Subject:해양공학, StudentID: 992222)\n"
     ]
    }
   ],
   "source": [
    "# 다형성(Override)구현 예제\n",
    "\n",
    "class Person:\n",
    "    \"부모 클래스\"\n",
    "    def __init__(self, name, phoneNumber):\n",
    "        self.Name = name\n",
    "        self.PhoneNumber = phoneNumber\n",
    "    def printinfo(self):\n",
    "        print(\"Info(Name:{0}, Phone Number: {1})\". format\n",
    "             (self.Name, self.PhoneNumber))\n",
    "        \n",
    "class Student(Person):   # 자식클래스명 (부모클래스명)\n",
    "    \"자식 클래스\"\n",
    "    def __init__(self, name, phoneNumber, subject, studentID):\n",
    "        Person.__init__(self, name, phoneNumber)  #상속받은 부모 클래스의 생성자를 명시적으로 호출하는 방법\n",
    "        self.subject = subject\n",
    "        self.studentID = studentID     \n",
    "    def printinfo(self):\n",
    "        print(\"Info(Name:{0}, Phone Number: {1})\". format\n",
    "             (self.Name, self.PhoneNumber))\n",
    "        print(\"Info(Subject:{0}, StudentID: {1})\". format\n",
    "             (self.subject, self.studentID))\n",
    "        \n",
    "s = Student(\"전우치\", \"010-123-1234\", \"해양공학\", \"992222\")\n",
    "s.printinfo()"
   ]
  }
 ],
 "metadata": {
  "kernelspec": {
   "display_name": "Python 3 (ipykernel)",
   "language": "python",
   "name": "python3"
  },
  "language_info": {
   "codemirror_mode": {
    "name": "ipython",
    "version": 3
   },
   "file_extension": ".py",
   "mimetype": "text/x-python",
   "name": "python",
   "nbconvert_exporter": "python",
   "pygments_lexer": "ipython3",
   "version": "3.9.13"
  }
 },
 "nbformat": 4,
 "nbformat_minor": 5
}
